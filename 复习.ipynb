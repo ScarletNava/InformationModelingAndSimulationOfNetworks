{
 "cells": [
  {
   "cell_type": "markdown",
   "metadata": {},
   "source": [
    "# 期末考试题型说明  \n"
   ]
  },
  {
   "cell_type": "markdown",
   "metadata": {},
   "source": [
    "## 一、选择题（20空，40分）\n",
    "  包含各章节的基本概念，NS-3中的基本概念（node，device，channel等）、使用方法、配套工具（如waf、gnuplot、netanim、brite等）、实验二涉及的模型（three-gpp-http, propagation-loss, random-walk等）。\n"
   ]
  },
  {
   "cell_type": "markdown",
   "metadata": {},
   "source": [
    "## 二、判断题（10题，10分）\n",
    "考查内容同上。\n"
   ]
  },
  {
   "cell_type": "markdown",
   "metadata": {},
   "source": [
    "## 三、填空题（15空，15分）\n",
    "考查重点概念：如离散事件仿真策略中的三阶段法、蒙特卡洛仿真的原理和步骤、随机变量产生的一般性方法及其适用条件、从数据到模型的理论建模方法、业务源模型建模的共同特征、移动性模型及其分类、无线链路信噪比计算等。\n"
   ]
  },
  {
   "cell_type": "markdown",
   "metadata": {},
   "source": [
    "## 四、程序填空题（15空，15分）\n",
    "示例：\n",
    "### 1.下面产生瑞利分布随机数，其分布函数为$$ F\\left(x\\right)=1-e^{-\\frac{x^2}{2\\sigma^2}}\\ \\ \\ x>0$$\n",
    "\n",
    "\n",
    "#include \\<cstdlib\\>  \n",
    "#include \\<iostream\\>  \n",
    "....................  \n",
    "double Rayleigh(double sigma, double state[ ]) //产生一个瑞利分布随机数  \n",
    "{  \n",
    "double u1;  \n",
    "u1=<u>      （3）     </u>;    //生成均匀分布随机数  \n",
    "return<u>      （4）     </u>;  //生成瑞利分布随机数  \n",
    "}  \n",
    " \n",
    "...............  \n",
    "### 2.下面为一段NS3程序，用于模拟一对节点之间的传输，其中一端模拟一个回声服务器，另一端模拟一个客户端，请把程序中的空补充完整。  \n",
    "#include \"ns3/<u>      （9）     </u>.h\"   //内核模块  \n",
    "#include \"ns3/network-module.h\"  \n",
    "..............  \n",
    "  NodeContainer<u>      （10）     </u>;  \n",
    "  nodes.Create (2);  \n",
    "  PointToPointHelper pointToPoint;  \n",
    "  pointToPoint.SetDeviceAttribute (\"DataRate\", StringValue (\"5Mbps\"));  \n",
    "  pointToPoint.SetChannelAttribute (\"Delay\", StringValue (\"2ms\"));  \n",
    "  NetDeviceContainer devices;  \n",
    "  <u>      （11）     </u>= pointToPoint.Install (<u>      （12）     </u>); //在节点上安装网络设备  \n",
    "...................  \n"
   ]
  },
  {
   "cell_type": "markdown",
   "metadata": {},
   "source": [
    "## 五、解答与设计题（2题，20分）\n",
    "示例：  \n",
    "蒙特卡洛仿真中，稀有事件出现的概率、仿真量和仿真的精度（绝对精度和相对精度）之间有密切关系，请利用它们之间的关系解决以下问题：  \n",
    "(1)一个通信链路，设传输错误概率很小，如果在仿真中每观察到100个误码就进行一次误码率的统计，问得到的结果在95%置信度条件下的相对精度是多少？（5分）\n",
    "\n",
    "|α|\t0.01\t|0.02\t|0.03|\t0.04|\t0.05\t|0.06|\t0.07|\t0.08|\t0.09|\t0.1|  \n",
    "| :---------:|:---------:|:---------:|:---------:|:---------:|:---------:|:---------:|:---------:|:---------:|:---------:|:---------:|\n",
    "|erf-1(α)\t|0.0089|\t0.0177|\t0.0266|\t0.0355|\t0.0443|\t0.0532|\t0.0621|\t0.0710|\t0.0799|\t0.0889|  \n",
    "|erfc-1(α)\t|1.8214|\t1.6450|\t1.5345|\t1.4522|\t1.3859|\t1.3299|\t1.2812|\t1.2379|\t1.1988|\t1.1631|  \n",
    "\n"
   ]
  },
  {
   "cell_type": "markdown",
   "metadata": {},
   "source": []
  }
 ],
 "metadata": {
  "interpreter": {
   "hash": "9df89913ca3b989d8b6e85c92806ce69ccf8e6a6cd6881861e792bcb6e706302"
  },
  "kernelspec": {
   "display_name": "Python 3.8.8 64-bit",
   "language": "python",
   "name": "python3"
  },
  "language_info": {
   "name": "python",
   "version": "3.8.8"
  },
  "orig_nbformat": 4
 },
 "nbformat": 4,
 "nbformat_minor": 2
}
